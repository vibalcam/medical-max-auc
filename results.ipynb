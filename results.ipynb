{
 "cells": [
  {
   "cell_type": "code",
   "execution_count": null,
   "metadata": {},
   "outputs": [],
   "source": [
    "import pathlib\n",
    "import torch\n",
    "from models.utils import dotdict, load_pickle\n",
    "import os\n",
    "import argparse\n",
    "from torchmetrics.functional import auroc\n",
    "import numpy as np\n",
    "import matplotlib.pyplot as plt\n",
    "import yaml\n",
    "import glob\n",
    "from collections import defaultdict\n",
    "import pandas as pd\n",
    "import matplotlib.pyplot as plt\n",
    "import pandas as pd\n",
    "from pandas import json_normalize"
   ]
  },
  {
   "cell_type": "code",
   "execution_count": null,
   "metadata": {},
   "outputs": [],
   "source": [
    "# datasets=(\"breastmnist\" \"pneumoniamnist\" \"chestmnist\" \"nodulemnist3d\" \"adrenalmnist3d\" \"vesselmnist3d\" \"synapsemnist3d\")"
   ]
  },
  {
   "cell_type": "code",
   "execution_count": null,
   "metadata": {},
   "outputs": [],
   "source": [
    "paths = glob.glob(\"other2/nodulemnist3d/**/*.pkl\", recursive=True)\n",
    "\n",
    "results = []\n",
    "for p in paths:\n",
    "    # if 'last' not in p:\n",
    "    #     continue\n",
    "    r = load_pickle(p)\n",
    "    r['last'] = 1 if 'last' in p else 0\n",
    "    r['args'] = vars(r['args'])\n",
    "    r['path'] = p\n",
    "    results.append(r)\n",
    "\n",
    "df = json_normalize(results)"
   ]
  },
  {
   "attachments": {},
   "cell_type": "markdown",
   "metadata": {},
   "source": [
    "## Summary"
   ]
  },
  {
   "cell_type": "code",
   "execution_count": null,
   "metadata": {},
   "outputs": [],
   "source": [
    "val = df[(df['args.dropout']==0) & (df['last']==0)].sort_values(by='val.val_auc',ascending=False).iloc[0]['val.val_auc'].round(3)\n",
    "test = df[(df['args.dropout']==0) & (df['last']==0)].sort_values(by='val.val_auc',ascending=False).iloc[0]['test.test_auc'].round(3)\n",
    "\n",
    "print(f\"Best val: {val}, test: {test}\")"
   ]
  },
  {
   "cell_type": "code",
   "execution_count": null,
   "metadata": {},
   "outputs": [],
   "source": [
    "val = df[(df['args.dropout']==0.1) & (df['last']==1)].sort_values(by='val.val_auc',ascending=False).iloc[0]['val.val_auc'].round(3)\n",
    "test = df[(df['args.dropout']==0.1) & (df['last']==1)].sort_values(by='val.val_auc',ascending=False).iloc[0]['test.test_auc'].round(3)\n",
    "\n",
    "print(f\"Best val: {val}, test: {test}\")"
   ]
  },
  {
   "attachments": {},
   "cell_type": "markdown",
   "metadata": {},
   "source": [
    "##### Other"
   ]
  },
  {
   "cell_type": "code",
   "execution_count": null,
   "metadata": {},
   "outputs": [],
   "source": [
    "df[(df['args.dropout']==0) & (df['last']==1)].sort_values(by='val.val_auc',ascending=False).iloc[0]['test.test_auc'].round(3)"
   ]
  },
  {
   "cell_type": "code",
   "execution_count": null,
   "metadata": {},
   "outputs": [],
   "source": [
    "df[(df['args.dropout']==0.1) & (df['last']==0)].sort_values(by='val.val_auc',ascending=False).iloc[0]['test.test_auc'].round(3)"
   ]
  },
  {
   "attachments": {},
   "cell_type": "markdown",
   "metadata": {},
   "source": [
    "## No Dropout"
   ]
  },
  {
   "cell_type": "code",
   "execution_count": null,
   "metadata": {},
   "outputs": [],
   "source": [
    "df[(df['args.dropout']==0) & (df['last']==0)].sort_values(by='val.val_auc',ascending=False).iloc[0]"
   ]
  },
  {
   "cell_type": "code",
   "execution_count": null,
   "metadata": {},
   "outputs": [],
   "source": [
    "df[(df['args.dropout']==0)].sort_values(by='test.test_auc',ascending=False).iloc[0]"
   ]
  },
  {
   "attachments": {},
   "cell_type": "markdown",
   "metadata": {},
   "source": [
    "## Dropout"
   ]
  },
  {
   "cell_type": "code",
   "execution_count": null,
   "metadata": {},
   "outputs": [],
   "source": [
    "df[(df['args.dropout']==0.1) & (df['last']==1)].sort_values(by='val.val_auc',ascending=False).iloc[0]"
   ]
  },
  {
   "cell_type": "code",
   "execution_count": null,
   "metadata": {},
   "outputs": [],
   "source": [
    "df[(df['args.dropout']==0.1)].sort_values(by='test.test_auc',ascending=False).iloc[0]"
   ]
  },
  {
   "cell_type": "code",
   "execution_count": null,
   "metadata": {},
   "outputs": [],
   "source": []
  }
 ],
 "metadata": {
  "kernelspec": {
   "display_name": "ml",
   "language": "python",
   "name": "python3"
  },
  "language_info": {
   "codemirror_mode": {
    "name": "ipython",
    "version": 3
   },
   "file_extension": ".py",
   "mimetype": "text/x-python",
   "name": "python",
   "nbconvert_exporter": "python",
   "pygments_lexer": "ipython3",
   "version": "3.9.16"
  },
  "orig_nbformat": 4
 },
 "nbformat": 4,
 "nbformat_minor": 2
}
