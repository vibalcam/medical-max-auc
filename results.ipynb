{
 "cells": [
  {
   "cell_type": "code",
   "execution_count": 131,
   "metadata": {},
   "outputs": [],
   "source": [
    "import pathlib\n",
    "import torch\n",
    "from models.utils import dotdict, load_pickle\n",
    "import os\n",
    "import argparse\n",
    "from torchmetrics.functional import auroc\n",
    "import numpy as np\n",
    "import matplotlib.pyplot as plt\n",
    "import yaml\n",
    "import glob\n",
    "from collections import defaultdict\n",
    "import pandas as pd\n",
    "import matplotlib.pyplot as plt\n",
    "import pandas as pd\n",
    "from pandas import json_normalize"
   ]
  },
  {
   "cell_type": "code",
   "execution_count": 132,
   "metadata": {},
   "outputs": [],
   "source": [
    "# datasets=(\"breastmnist\" \"pneumoniamnist\" \"chestmnist\" \"nodulemnist3d\" \"adrenalmnist3d\" \"vesselmnist3d\" \"synapsemnist3d\")"
   ]
  },
  {
   "cell_type": "code",
   "execution_count": 133,
   "metadata": {},
   "outputs": [],
   "source": [
    "paths = glob.glob(\"experiments/auctuning/synapsemnist3d/**/*.pkl\", recursive=True)\n",
    "\n",
    "results = []\n",
    "for p in paths:\n",
    "    # if 'last' not in p:\n",
    "    #     continue\n",
    "    r = load_pickle(p)\n",
    "    r['last'] = 1 if 'last' in p else 0\n",
    "    r['args'] = vars(r['args'])\n",
    "    r['path'] = p\n",
    "    results.append(r)\n",
    "\n",
    "df = json_normalize(results)"
   ]
  },
  {
   "attachments": {},
   "cell_type": "markdown",
   "metadata": {},
   "source": [
    "## Summary"
   ]
  },
  {
   "cell_type": "code",
   "execution_count": 134,
   "metadata": {},
   "outputs": [
    {
     "data": {
      "text/plain": [
       "0.73"
      ]
     },
     "execution_count": 134,
     "metadata": {},
     "output_type": "execute_result"
    }
   ],
   "source": [
    "df[(df['args.dropout']==0) & (df['last']==0)].sort_values(by='val.val_auc',ascending=False).iloc[0]['test.test_auc'].round(3)"
   ]
  },
  {
   "cell_type": "code",
   "execution_count": 135,
   "metadata": {},
   "outputs": [
    {
     "data": {
      "text/plain": [
       "0.733"
      ]
     },
     "execution_count": 135,
     "metadata": {},
     "output_type": "execute_result"
    }
   ],
   "source": [
    "df[(df['args.dropout']==0.1) & (df['last']==1)].sort_values(by='val.val_auc',ascending=False).iloc[0]['test.test_auc'].round(3)"
   ]
  },
  {
   "attachments": {},
   "cell_type": "markdown",
   "metadata": {},
   "source": [
    "##### Other"
   ]
  },
  {
   "cell_type": "code",
   "execution_count": 136,
   "metadata": {},
   "outputs": [
    {
     "data": {
      "text/plain": [
       "0.694"
      ]
     },
     "execution_count": 136,
     "metadata": {},
     "output_type": "execute_result"
    }
   ],
   "source": [
    "df[(df['args.dropout']==0) & (df['last']==1)].sort_values(by='val.val_auc',ascending=False).iloc[0]['test.test_auc'].round(3)"
   ]
  },
  {
   "cell_type": "code",
   "execution_count": 137,
   "metadata": {},
   "outputs": [
    {
     "data": {
      "text/plain": [
       "0.73"
      ]
     },
     "execution_count": 137,
     "metadata": {},
     "output_type": "execute_result"
    }
   ],
   "source": [
    "df[(df['args.dropout']==0.1) & (df['last']==0)].sort_values(by='val.val_auc',ascending=False).iloc[0]['test.test_auc'].round(3)"
   ]
  },
  {
   "attachments": {},
   "cell_type": "markdown",
   "metadata": {},
   "source": [
    "## No Dropout"
   ]
  },
  {
   "cell_type": "code",
   "execution_count": 138,
   "metadata": {},
   "outputs": [
    {
     "data": {
      "text/plain": [
       "dataset                                                            synapsemnist3d\n",
       "name                                                                 basic_auc_32\n",
       "last                                                                            0\n",
       "path                            experiments/auctuning/synapsemnist3d/lr_aug_ba...\n",
       "val.val_acc                                                              0.774011\n",
       "val.val_auc                                                              0.762758\n",
       "test.test_acc                                                            0.707386\n",
       "test.test_auc                                                            0.729633\n",
       "args.name                       lr_aug_batch_a5c671de-0209-4b9f-a67e-8f09d00c20ff\n",
       "args.workers                                                                    7\n",
       "args.epochs                                                                   200\n",
       "args.batch_size                                                                32\n",
       "args.resume                                                                  None\n",
       "args.seed                                                                  123456\n",
       "args.debug                                                                  False\n",
       "args.momentum                                                                 0.9\n",
       "args.weight_decay                                                          0.0001\n",
       "args.loss_type                                                                auc\n",
       "args.lr                                                                       0.1\n",
       "args.optimizer                                                              adamw\n",
       "args.warmup_epochs                                                              0\n",
       "args.lr_steps                                                          [100, 150]\n",
       "args.lr0                                                                     0.02\n",
       "args.betas                                                             [0.9, 0.9]\n",
       "args.epoch_decay                                                             0.03\n",
       "args.margin                                                                   1.0\n",
       "args.save_dir                                                             ./other\n",
       "args.results_file                                                         results\n",
       "args.dataset                                                       synapsemnist3d\n",
       "args.augmentations                                                          basic\n",
       "args.aug_args                                                                    \n",
       "args.sampler                                                                 None\n",
       "args.save_every_epochs                                                          5\n",
       "args.evaluate_every                                                           5.0\n",
       "args.early_stopping_patience                                                   10\n",
       "args.use_best_model                                                         False\n",
       "args.test                                                                    None\n",
       "args.dropout                                                                  0.0\n",
       "args.pretrained                                                              None\n",
       "args.freeze                                                                 False\n",
       "args.pretrain_type                                                            bce\n",
       "args.type_3d                                                                   3d\n",
       "Name: 27, dtype: object"
      ]
     },
     "execution_count": 138,
     "metadata": {},
     "output_type": "execute_result"
    }
   ],
   "source": [
    "df[(df['args.dropout']==0) & (df['last']==0)].sort_values(by='val.val_auc',ascending=False).iloc[0]"
   ]
  },
  {
   "cell_type": "code",
   "execution_count": 139,
   "metadata": {},
   "outputs": [
    {
     "data": {
      "text/plain": [
       "dataset                                                            synapsemnist3d\n",
       "name                                                                 basic_auc_32\n",
       "last                                                                            0\n",
       "path                            experiments/auctuning/synapsemnist3d/lr_aug_ba...\n",
       "val.val_acc                                                              0.774011\n",
       "val.val_auc                                                              0.762758\n",
       "test.test_acc                                                            0.707386\n",
       "test.test_auc                                                            0.729633\n",
       "args.name                       lr_aug_batch_a5c671de-0209-4b9f-a67e-8f09d00c20ff\n",
       "args.workers                                                                    7\n",
       "args.epochs                                                                   200\n",
       "args.batch_size                                                                32\n",
       "args.resume                                                                  None\n",
       "args.seed                                                                  123456\n",
       "args.debug                                                                  False\n",
       "args.momentum                                                                 0.9\n",
       "args.weight_decay                                                          0.0001\n",
       "args.loss_type                                                                auc\n",
       "args.lr                                                                       0.1\n",
       "args.optimizer                                                              adamw\n",
       "args.warmup_epochs                                                              0\n",
       "args.lr_steps                                                          [100, 150]\n",
       "args.lr0                                                                     0.02\n",
       "args.betas                                                             [0.9, 0.9]\n",
       "args.epoch_decay                                                             0.03\n",
       "args.margin                                                                   1.0\n",
       "args.save_dir                                                             ./other\n",
       "args.results_file                                                         results\n",
       "args.dataset                                                       synapsemnist3d\n",
       "args.augmentations                                                          basic\n",
       "args.aug_args                                                                    \n",
       "args.sampler                                                                 None\n",
       "args.save_every_epochs                                                          5\n",
       "args.evaluate_every                                                           5.0\n",
       "args.early_stopping_patience                                                   10\n",
       "args.use_best_model                                                         False\n",
       "args.test                                                                    None\n",
       "args.dropout                                                                  0.0\n",
       "args.pretrained                                                              None\n",
       "args.freeze                                                                 False\n",
       "args.pretrain_type                                                            bce\n",
       "args.type_3d                                                                   3d\n",
       "Name: 27, dtype: object"
      ]
     },
     "execution_count": 139,
     "metadata": {},
     "output_type": "execute_result"
    }
   ],
   "source": [
    "df[(df['args.dropout']==0)].sort_values(by='test.test_auc',ascending=False).iloc[0]"
   ]
  },
  {
   "attachments": {},
   "cell_type": "markdown",
   "metadata": {},
   "source": [
    "## Dropout"
   ]
  },
  {
   "cell_type": "code",
   "execution_count": 140,
   "metadata": {},
   "outputs": [
    {
     "data": {
      "text/plain": [
       "dataset                                                            synapsemnist3d\n",
       "name                                                                 basic_auc_32\n",
       "last                                                                            1\n",
       "path                            experiments/auctuning/synapsemnist3d/lr_aug_ba...\n",
       "val.val_acc                                                              0.779661\n",
       "val.val_auc                                                              0.755975\n",
       "test.test_acc                                                                0.75\n",
       "test.test_auc                                                            0.733443\n",
       "args.name                       lr_aug_batch_593e74b3-ed3d-40a5-99bd-5d37f7d0d70b\n",
       "args.workers                                                                    7\n",
       "args.epochs                                                                   200\n",
       "args.batch_size                                                                32\n",
       "args.resume                                                                  None\n",
       "args.seed                                                                  123456\n",
       "args.debug                                                                  False\n",
       "args.momentum                                                                 0.9\n",
       "args.weight_decay                                                          0.0001\n",
       "args.loss_type                                                                auc\n",
       "args.lr                                                                      0.01\n",
       "args.optimizer                                                              adamw\n",
       "args.warmup_epochs                                                              0\n",
       "args.lr_steps                                                          [100, 150]\n",
       "args.lr0                                                                     0.02\n",
       "args.betas                                                             [0.9, 0.9]\n",
       "args.epoch_decay                                                             0.03\n",
       "args.margin                                                                   1.0\n",
       "args.save_dir                                                             ./other\n",
       "args.results_file                                                         results\n",
       "args.dataset                                                       synapsemnist3d\n",
       "args.augmentations                                                          basic\n",
       "args.aug_args                                                                    \n",
       "args.sampler                                                                 None\n",
       "args.save_every_epochs                                                          5\n",
       "args.evaluate_every                                                           5.0\n",
       "args.early_stopping_patience                                                   10\n",
       "args.use_best_model                                                         False\n",
       "args.test                                                                    None\n",
       "args.dropout                                                                  0.1\n",
       "args.pretrained                                                              None\n",
       "args.freeze                                                                 False\n",
       "args.pretrain_type                                                            bce\n",
       "args.type_3d                                                                   3d\n",
       "Name: 12, dtype: object"
      ]
     },
     "execution_count": 140,
     "metadata": {},
     "output_type": "execute_result"
    }
   ],
   "source": [
    "df[(df['args.dropout']==0.1) & (df['last']==1)].sort_values(by='val.val_auc',ascending=False).iloc[0]"
   ]
  },
  {
   "cell_type": "code",
   "execution_count": 141,
   "metadata": {},
   "outputs": [
    {
     "data": {
      "text/plain": [
       "dataset                                                            synapsemnist3d\n",
       "name                                                                 basic_auc_32\n",
       "last                                                                            0\n",
       "path                            experiments/auctuning/synapsemnist3d/lr_aug_ba...\n",
       "val.val_acc                                                              0.615819\n",
       "val.val_auc                                                              0.707687\n",
       "test.test_acc                                                            0.661932\n",
       "test.test_auc                                                            0.763711\n",
       "args.name                       lr_aug_batch_43bf2df3-0e2b-4a9d-8fe0-fa7cec010225\n",
       "args.workers                                                                    7\n",
       "args.epochs                                                                   200\n",
       "args.batch_size                                                                32\n",
       "args.resume                                                                  None\n",
       "args.seed                                                                  123456\n",
       "args.debug                                                                  False\n",
       "args.momentum                                                                 0.9\n",
       "args.weight_decay                                                          0.0001\n",
       "args.loss_type                                                                auc\n",
       "args.lr                                                                       0.1\n",
       "args.optimizer                                                              adamw\n",
       "args.warmup_epochs                                                              0\n",
       "args.lr_steps                                                          [100, 150]\n",
       "args.lr0                                                                     0.02\n",
       "args.betas                                                             [0.9, 0.9]\n",
       "args.epoch_decay                                                            0.003\n",
       "args.margin                                                                   1.0\n",
       "args.save_dir                                                             ./other\n",
       "args.results_file                                                         results\n",
       "args.dataset                                                       synapsemnist3d\n",
       "args.augmentations                                                          basic\n",
       "args.aug_args                                                                    \n",
       "args.sampler                                                                 None\n",
       "args.save_every_epochs                                                          5\n",
       "args.evaluate_every                                                           5.0\n",
       "args.early_stopping_patience                                                   10\n",
       "args.use_best_model                                                         False\n",
       "args.test                                                                    None\n",
       "args.dropout                                                                  0.1\n",
       "args.pretrained                                                              None\n",
       "args.freeze                                                                 False\n",
       "args.pretrain_type                                                            bce\n",
       "args.type_3d                                                                   3d\n",
       "Name: 31, dtype: object"
      ]
     },
     "execution_count": 141,
     "metadata": {},
     "output_type": "execute_result"
    }
   ],
   "source": [
    "df[(df['args.dropout']==0.1)].sort_values(by='test.test_auc',ascending=False).iloc[0]"
   ]
  },
  {
   "cell_type": "code",
   "execution_count": null,
   "metadata": {},
   "outputs": [],
   "source": []
  }
 ],
 "metadata": {
  "kernelspec": {
   "display_name": "ml",
   "language": "python",
   "name": "python3"
  },
  "language_info": {
   "codemirror_mode": {
    "name": "ipython",
    "version": 3
   },
   "file_extension": ".py",
   "mimetype": "text/x-python",
   "name": "python",
   "nbconvert_exporter": "python",
   "pygments_lexer": "ipython3",
   "version": "3.9.16"
  },
  "orig_nbformat": 4
 },
 "nbformat": 4,
 "nbformat_minor": 2
}
