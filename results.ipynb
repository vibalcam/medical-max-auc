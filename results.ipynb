{
 "cells": [
  {
   "cell_type": "code",
   "execution_count": 6,
   "metadata": {},
   "outputs": [],
   "source": [
    "import pathlib\n",
    "import torch\n",
    "from models.utils import dotdict, load_pickle\n",
    "import os\n",
    "import argparse\n",
    "from torchmetrics.functional import auroc\n",
    "import numpy as np\n",
    "import matplotlib.pyplot as plt\n",
    "import yaml\n",
    "import glob\n",
    "from collections import defaultdict\n",
    "import pandas as pd\n",
    "import matplotlib.pyplot as plt\n",
    "import pandas as pd\n",
    "from pandas import json_normalize"
   ]
  },
  {
   "cell_type": "code",
   "execution_count": 7,
   "metadata": {},
   "outputs": [],
   "source": [
    "# datasets=(\"breastmnist\" \"pneumoniamnist\" \"chestmnist\")"
   ]
  },
  {
   "cell_type": "code",
   "execution_count": 8,
   "metadata": {},
   "outputs": [],
   "source": [
    "paths = glob.glob(\"saved_models/chestmnist/**/*.pkl\", recursive=True)\n",
    "\n",
    "results = []\n",
    "for p in paths:\n",
    "    # if 'last' not in p:\n",
    "    #     continue\n",
    "    r = load_pickle(p)\n",
    "    r['args'] = vars(r['args'])\n",
    "    r['path'] = p\n",
    "    results.append(r)\n",
    "\n",
    "df = json_normalize(results)"
   ]
  },
  {
   "cell_type": "code",
   "execution_count": 10,
   "metadata": {},
   "outputs": [
    {
     "data": {
      "text/plain": [
       "dataset                                                            pneumoniamnist\n",
       "name                                                                basic_auc_128\n",
       "path                            saved_models/pneumoniamnist/lr_aug_batch_f8cbc...\n",
       "val.val_acc                                                              0.973282\n",
       "val.val_auc                                                              0.997867\n",
       "test.test_acc                                                            0.894231\n",
       "test.test_auc                                                            0.966223\n",
       "args.name                       lr_aug_batch_f8cbccdc-6761-42b1-9662-419873dc882a\n",
       "args.workers                                                                    4\n",
       "args.epochs                                                                   200\n",
       "args.batch_size                                                               128\n",
       "args.resume                                                                  None\n",
       "args.seed                                                                  123456\n",
       "args.debug                                                                  False\n",
       "args.momentum                                                                 0.9\n",
       "args.weight_decay                                                         0.00001\n",
       "args.loss_type                                                                auc\n",
       "args.lr                                                                       0.1\n",
       "args.optimizer                                                              adamw\n",
       "args.warmup_epochs                                                              0\n",
       "args.lr_steps                                                          [100, 150]\n",
       "args.lr0                                                                     0.02\n",
       "args.betas                                                             [0.9, 0.9]\n",
       "args.epoch_decay                                                             0.03\n",
       "args.margin                                                                   0.8\n",
       "args.save_dir                                                      ./saved_models\n",
       "args.results_file                                                         results\n",
       "args.dataset                                                       pneumoniamnist\n",
       "args.augmentations                                                          basic\n",
       "args.aug_args                                                                    \n",
       "args.sampler                                                                 None\n",
       "args.save_every_epochs                                                          5\n",
       "args.evaluate_every                                                             5\n",
       "args.early_stopping_patience                                                 None\n",
       "args.use_best_model                                                         False\n",
       "args.dropout                                                                  0.0\n",
       "args.pretrained                                                              None\n",
       "args.freeze                                                                 False\n",
       "args.pretrain_type                                                            bce\n",
       "args.type_3d                                                                   3d\n",
       "Name: 53, dtype: object"
      ]
     },
     "execution_count": 10,
     "metadata": {},
     "output_type": "execute_result"
    }
   ],
   "source": [
    "df[(df['args.dropout']==0)].sort_values(by='test.test_auc',ascending=False).iloc[0]"
   ]
  },
  {
   "cell_type": "code",
   "execution_count": 11,
   "metadata": {},
   "outputs": [
    {
     "data": {
      "text/plain": [
       "dataset                                                            pneumoniamnist\n",
       "name                                                                basic_auc_128\n",
       "path                            saved_models/pneumoniamnist/lr_aug_batch_8637e...\n",
       "val.val_acc                                                              0.979008\n",
       "val.val_auc                                                              0.998077\n",
       "test.test_acc                                                            0.891026\n",
       "test.test_auc                                                            0.966097\n",
       "args.name                       lr_aug_batch_8637ec5a-3859-4f5a-a426-9bae790501a6\n",
       "args.workers                                                                    4\n",
       "args.epochs                                                                   200\n",
       "args.batch_size                                                               128\n",
       "args.resume                                                                  None\n",
       "args.seed                                                                  123456\n",
       "args.debug                                                                  False\n",
       "args.momentum                                                                 0.9\n",
       "args.weight_decay                                                           0.001\n",
       "args.loss_type                                                                auc\n",
       "args.lr                                                                       0.1\n",
       "args.optimizer                                                              adamw\n",
       "args.warmup_epochs                                                              0\n",
       "args.lr_steps                                                          [100, 150]\n",
       "args.lr0                                                                     0.02\n",
       "args.betas                                                             [0.9, 0.9]\n",
       "args.epoch_decay                                                             0.03\n",
       "args.margin                                                                   1.0\n",
       "args.save_dir                                                      ./saved_models\n",
       "args.results_file                                                         results\n",
       "args.dataset                                                       pneumoniamnist\n",
       "args.augmentations                                                          basic\n",
       "args.aug_args                                                                    \n",
       "args.sampler                                                                 None\n",
       "args.save_every_epochs                                                          5\n",
       "args.evaluate_every                                                             5\n",
       "args.early_stopping_patience                                                 None\n",
       "args.use_best_model                                                         False\n",
       "args.dropout                                                                  0.0\n",
       "args.pretrained                                                              None\n",
       "args.freeze                                                                 False\n",
       "args.pretrain_type                                                            bce\n",
       "args.type_3d                                                                   3d\n",
       "Name: 15, dtype: object"
      ]
     },
     "execution_count": 11,
     "metadata": {},
     "output_type": "execute_result"
    }
   ],
   "source": [
    "df[(df['args.dropout']==0)].sort_values(by='val.val_auc',ascending=False).iloc[0]"
   ]
  },
  {
   "attachments": {},
   "cell_type": "markdown",
   "metadata": {},
   "source": [
    "### Dropout"
   ]
  },
  {
   "cell_type": "code",
   "execution_count": 12,
   "metadata": {},
   "outputs": [
    {
     "data": {
      "text/plain": [
       "dataset                                                            pneumoniamnist\n",
       "name                                                                basic_auc_128\n",
       "path                            saved_models/pneumoniamnist/lr_aug_batch_3c821...\n",
       "val.val_acc                                                              0.971374\n",
       "val.val_auc                                                              0.996915\n",
       "test.test_acc                                                            0.886218\n",
       "test.test_auc                                                            0.956936\n",
       "args.name                       lr_aug_batch_3c821e7b-777d-40f3-a0f0-f3d10f9c3772\n",
       "args.workers                                                                    4\n",
       "args.epochs                                                                   200\n",
       "args.batch_size                                                               128\n",
       "args.resume                                                                  None\n",
       "args.seed                                                                  123456\n",
       "args.debug                                                                  False\n",
       "args.momentum                                                                 0.9\n",
       "args.weight_decay                                                           0.001\n",
       "args.loss_type                                                                auc\n",
       "args.lr                                                                       0.1\n",
       "args.optimizer                                                              adamw\n",
       "args.warmup_epochs                                                              0\n",
       "args.lr_steps                                                          [100, 150]\n",
       "args.lr0                                                                     0.02\n",
       "args.betas                                                             [0.9, 0.9]\n",
       "args.epoch_decay                                                             0.03\n",
       "args.margin                                                                   0.6\n",
       "args.save_dir                                                      ./saved_models\n",
       "args.results_file                                                         results\n",
       "args.dataset                                                       pneumoniamnist\n",
       "args.augmentations                                                          basic\n",
       "args.aug_args                                                                    \n",
       "args.sampler                                                                 None\n",
       "args.save_every_epochs                                                          5\n",
       "args.evaluate_every                                                             5\n",
       "args.early_stopping_patience                                                 None\n",
       "args.use_best_model                                                         False\n",
       "args.dropout                                                                  0.1\n",
       "args.pretrained                                                              None\n",
       "args.freeze                                                                 False\n",
       "args.pretrain_type                                                            bce\n",
       "args.type_3d                                                                   3d\n",
       "Name: 48, dtype: object"
      ]
     },
     "execution_count": 12,
     "metadata": {},
     "output_type": "execute_result"
    }
   ],
   "source": [
    "df[(df['args.dropout']==0.1)].sort_values(by='test.test_auc',ascending=False).iloc[0]"
   ]
  },
  {
   "cell_type": "code",
   "execution_count": 13,
   "metadata": {},
   "outputs": [
    {
     "data": {
      "text/plain": [
       "dataset                                                            pneumoniamnist\n",
       "name                                                                basic_auc_128\n",
       "path                            saved_models/pneumoniamnist/lr_aug_batch_3c821...\n",
       "val.val_acc                                                              0.973282\n",
       "val.val_auc                                                              0.997467\n",
       "test.test_acc                                                            0.897436\n",
       "test.test_auc                                                            0.949764\n",
       "args.name                       lr_aug_batch_3c821e7b-777d-40f3-a0f0-f3d10f9c3772\n",
       "args.workers                                                                    4\n",
       "args.epochs                                                                   200\n",
       "args.batch_size                                                               128\n",
       "args.resume                                                                  None\n",
       "args.seed                                                                  123456\n",
       "args.debug                                                                  False\n",
       "args.momentum                                                                 0.9\n",
       "args.weight_decay                                                           0.001\n",
       "args.loss_type                                                                auc\n",
       "args.lr                                                                       0.1\n",
       "args.optimizer                                                              adamw\n",
       "args.warmup_epochs                                                              0\n",
       "args.lr_steps                                                          [100, 150]\n",
       "args.lr0                                                                     0.02\n",
       "args.betas                                                             [0.9, 0.9]\n",
       "args.epoch_decay                                                             0.03\n",
       "args.margin                                                                   0.6\n",
       "args.save_dir                                                      ./saved_models\n",
       "args.results_file                                                         results\n",
       "args.dataset                                                       pneumoniamnist\n",
       "args.augmentations                                                          basic\n",
       "args.aug_args                                                                    \n",
       "args.sampler                                                                 None\n",
       "args.save_every_epochs                                                          5\n",
       "args.evaluate_every                                                             5\n",
       "args.early_stopping_patience                                                 None\n",
       "args.use_best_model                                                         False\n",
       "args.dropout                                                                  0.1\n",
       "args.pretrained                                                              None\n",
       "args.freeze                                                                 False\n",
       "args.pretrain_type                                                            bce\n",
       "args.type_3d                                                                   3d\n",
       "Name: 49, dtype: object"
      ]
     },
     "execution_count": 13,
     "metadata": {},
     "output_type": "execute_result"
    }
   ],
   "source": [
    "df[(df['args.dropout']==0.1)].sort_values(by='val.val_auc',ascending=False).iloc[0]"
   ]
  },
  {
   "cell_type": "code",
   "execution_count": null,
   "metadata": {},
   "outputs": [],
   "source": []
  }
 ],
 "metadata": {
  "kernelspec": {
   "display_name": "ml",
   "language": "python",
   "name": "python3"
  },
  "language_info": {
   "codemirror_mode": {
    "name": "ipython",
    "version": 3
   },
   "file_extension": ".py",
   "mimetype": "text/x-python",
   "name": "python",
   "nbconvert_exporter": "python",
   "pygments_lexer": "ipython3",
   "version": "3.9.16"
  },
  "orig_nbformat": 4
 },
 "nbformat": 4,
 "nbformat_minor": 2
}
