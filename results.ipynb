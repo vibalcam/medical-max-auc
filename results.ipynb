{
 "cells": [
  {
   "cell_type": "code",
   "execution_count": 90,
   "metadata": {},
   "outputs": [],
   "source": [
    "import pathlib\n",
    "import torch\n",
    "from models.utils import dotdict, load_pickle\n",
    "import os\n",
    "import argparse\n",
    "from torchmetrics.functional import auroc\n",
    "import numpy as np\n",
    "import matplotlib.pyplot as plt\n",
    "import yaml\n",
    "import glob\n",
    "from collections import defaultdict\n",
    "import pandas as pd\n",
    "import matplotlib.pyplot as plt\n",
    "import pandas as pd\n",
    "from pandas import json_normalize"
   ]
  },
  {
   "cell_type": "code",
   "execution_count": 91,
   "metadata": {},
   "outputs": [],
   "source": [
    "# datasets=(\"breastmnist\" \"pneumoniamnist\" \"chestmnist\" \"nodulemnist3d\" \"adrenalmnist3d\" \"vesselmnist3d\" \"synapsemnist3d\")"
   ]
  },
  {
   "cell_type": "code",
   "execution_count": 92,
   "metadata": {},
   "outputs": [],
   "source": [
    "paths = glob.glob(\"other/chestmnist/**/*.pkl\", recursive=True)\n",
    "\n",
    "results = []\n",
    "for p in paths:\n",
    "    # if 'last' not in p:\n",
    "    #     continue\n",
    "    r = load_pickle(p)\n",
    "    r['last'] = 1 if 'last' in p else 0\n",
    "    r['args'] = vars(r['args'])\n",
    "    r['path'] = p\n",
    "    results.append(r)\n",
    "\n",
    "df = json_normalize(results)"
   ]
  },
  {
   "attachments": {},
   "cell_type": "markdown",
   "metadata": {},
   "source": [
    "## Summary"
   ]
  },
  {
   "cell_type": "code",
   "execution_count": 102,
   "metadata": {},
   "outputs": [
    {
     "data": {
      "text/plain": [
       "0.494"
      ]
     },
     "execution_count": 102,
     "metadata": {},
     "output_type": "execute_result"
    }
   ],
   "source": [
    "df[(df['args.dropout']==0) & (df['last']==0) & (df['args.model_per_task']==1)].sort_values(by='val.val_auc',ascending=False).iloc[0]['test.test_auc'].round(3)"
   ]
  },
  {
   "cell_type": "code",
   "execution_count": 94,
   "metadata": {},
   "outputs": [
    {
     "data": {
      "text/plain": [
       "0.645"
      ]
     },
     "execution_count": 94,
     "metadata": {},
     "output_type": "execute_result"
    }
   ],
   "source": [
    "df[(df['args.dropout']==0.1) & (df['last']==1)].sort_values(by='val.val_auc',ascending=False).iloc[0]['test.test_auc'].round(3)"
   ]
  },
  {
   "attachments": {},
   "cell_type": "markdown",
   "metadata": {},
   "source": [
    "##### Other"
   ]
  },
  {
   "cell_type": "code",
   "execution_count": 95,
   "metadata": {},
   "outputs": [
    {
     "data": {
      "text/plain": [
       "0.68"
      ]
     },
     "execution_count": 95,
     "metadata": {},
     "output_type": "execute_result"
    }
   ],
   "source": [
    "df[(df['args.dropout']==0) & (df['last']==1)].sort_values(by='val.val_auc',ascending=False).iloc[0]['test.test_auc'].round(3)"
   ]
  },
  {
   "cell_type": "code",
   "execution_count": 96,
   "metadata": {},
   "outputs": [
    {
     "data": {
      "text/plain": [
       "0.688"
      ]
     },
     "execution_count": 96,
     "metadata": {},
     "output_type": "execute_result"
    }
   ],
   "source": [
    "df[(df['args.dropout']==0.1) & (df['last']==0)].sort_values(by='val.val_auc',ascending=False).iloc[0]['test.test_auc'].round(3)"
   ]
  },
  {
   "attachments": {},
   "cell_type": "markdown",
   "metadata": {},
   "source": [
    "## No Dropout"
   ]
  },
  {
   "cell_type": "code",
   "execution_count": 97,
   "metadata": {},
   "outputs": [
    {
     "data": {
      "text/plain": [
       "dataset                                                                chestmnist\n",
       "name                                                                basic_auc_128\n",
       "last                                                                            0\n",
       "path                            other/chestmnist/lr_aug_batch_adaac8d7-49ac-4d...\n",
       "val.val_acc                                                              0.433105\n",
       "val.val_auc                                                              0.718272\n",
       "test.test_acc                                                            0.424999\n",
       "test.test_auc                                                            0.706233\n",
       "args.name                       lr_aug_batch_adaac8d7-49ac-4d20-b506-bbec28518157\n",
       "args.workers                                                                   10\n",
       "args.epochs                                                                   200\n",
       "args.batch_size                                                               128\n",
       "args.resume                                                                  None\n",
       "args.seed                                                                  123456\n",
       "args.debug                                                                  False\n",
       "args.momentum                                                                 0.9\n",
       "args.weight_decay                                                         0.00001\n",
       "args.loss_type                                                                auc\n",
       "args.lr                                                                      0.01\n",
       "args.optimizer                                                              adamw\n",
       "args.warmup_epochs                                                              0\n",
       "args.lr_steps                                                          [100, 150]\n",
       "args.lr0                                                                     0.02\n",
       "args.betas                                                             [0.9, 0.9]\n",
       "args.epoch_decay                                                             0.03\n",
       "args.margin                                                                   1.0\n",
       "args.save_dir                                                             ./other\n",
       "args.results_file                                                         results\n",
       "args.dataset                                                           chestmnist\n",
       "args.augmentations                                                          basic\n",
       "args.aug_args                                                                    \n",
       "args.sampler                                                                 None\n",
       "args.save_every_epochs                                                          5\n",
       "args.evaluate_every                                                           5.0\n",
       "args.early_stopping_patience                                                   10\n",
       "args.use_best_model                                                         False\n",
       "args.test                                                                    None\n",
       "args.dropout                                                                  0.0\n",
       "args.pretrained                                                              None\n",
       "args.freeze                                                                 False\n",
       "args.pretrain_type                                                            bce\n",
       "args.type_3d                                                                   3d\n",
       "args.model_per_task                                                         False\n",
       "args.use_16                                                                  True\n",
       "Name: 9, dtype: object"
      ]
     },
     "execution_count": 97,
     "metadata": {},
     "output_type": "execute_result"
    }
   ],
   "source": [
    "df[(df['args.dropout']==0) & (df['last']==0)].sort_values(by='val.val_auc',ascending=False).iloc[0]"
   ]
  },
  {
   "cell_type": "code",
   "execution_count": 98,
   "metadata": {},
   "outputs": [
    {
     "data": {
      "text/plain": [
       "dataset                                                                chestmnist\n",
       "name                                                                basic_auc_128\n",
       "last                                                                            0\n",
       "path                            other/chestmnist/lr_aug_batch_adaac8d7-49ac-4d...\n",
       "val.val_acc                                                              0.433105\n",
       "val.val_auc                                                              0.718272\n",
       "test.test_acc                                                            0.424999\n",
       "test.test_auc                                                            0.706233\n",
       "args.name                       lr_aug_batch_adaac8d7-49ac-4d20-b506-bbec28518157\n",
       "args.workers                                                                   10\n",
       "args.epochs                                                                   200\n",
       "args.batch_size                                                               128\n",
       "args.resume                                                                  None\n",
       "args.seed                                                                  123456\n",
       "args.debug                                                                  False\n",
       "args.momentum                                                                 0.9\n",
       "args.weight_decay                                                         0.00001\n",
       "args.loss_type                                                                auc\n",
       "args.lr                                                                      0.01\n",
       "args.optimizer                                                              adamw\n",
       "args.warmup_epochs                                                              0\n",
       "args.lr_steps                                                          [100, 150]\n",
       "args.lr0                                                                     0.02\n",
       "args.betas                                                             [0.9, 0.9]\n",
       "args.epoch_decay                                                             0.03\n",
       "args.margin                                                                   1.0\n",
       "args.save_dir                                                             ./other\n",
       "args.results_file                                                         results\n",
       "args.dataset                                                           chestmnist\n",
       "args.augmentations                                                          basic\n",
       "args.aug_args                                                                    \n",
       "args.sampler                                                                 None\n",
       "args.save_every_epochs                                                          5\n",
       "args.evaluate_every                                                           5.0\n",
       "args.early_stopping_patience                                                   10\n",
       "args.use_best_model                                                         False\n",
       "args.test                                                                    None\n",
       "args.dropout                                                                  0.0\n",
       "args.pretrained                                                              None\n",
       "args.freeze                                                                 False\n",
       "args.pretrain_type                                                            bce\n",
       "args.type_3d                                                                   3d\n",
       "args.model_per_task                                                         False\n",
       "args.use_16                                                                  True\n",
       "Name: 9, dtype: object"
      ]
     },
     "execution_count": 98,
     "metadata": {},
     "output_type": "execute_result"
    }
   ],
   "source": [
    "df[(df['args.dropout']==0)].sort_values(by='test.test_auc',ascending=False).iloc[0]"
   ]
  },
  {
   "attachments": {},
   "cell_type": "markdown",
   "metadata": {},
   "source": [
    "## Dropout"
   ]
  },
  {
   "cell_type": "code",
   "execution_count": 99,
   "metadata": {},
   "outputs": [
    {
     "data": {
      "text/plain": [
       "dataset                                                                chestmnist\n",
       "name                                                                basic_auc_128\n",
       "last                                                                            0\n",
       "path                            other/chestmnist/lr_aug_batch_f6efaf16-b72d-4f...\n",
       "val.val_acc                                                              0.392014\n",
       "val.val_auc                                                              0.697794\n",
       "test.test_acc                                                            0.382026\n",
       "test.test_auc                                                            0.687536\n",
       "args.name                       lr_aug_batch_f6efaf16-b72d-4f10-b575-b3306d1a20b5\n",
       "args.workers                                                                   10\n",
       "args.epochs                                                                   200\n",
       "args.batch_size                                                               128\n",
       "args.resume                                                                  None\n",
       "args.seed                                                                  123456\n",
       "args.debug                                                                  False\n",
       "args.momentum                                                                 0.9\n",
       "args.weight_decay                                                          0.0001\n",
       "args.loss_type                                                                auc\n",
       "args.lr                                                                      0.01\n",
       "args.optimizer                                                              adamw\n",
       "args.warmup_epochs                                                              0\n",
       "args.lr_steps                                                          [100, 150]\n",
       "args.lr0                                                                     0.02\n",
       "args.betas                                                             [0.9, 0.9]\n",
       "args.epoch_decay                                                             0.03\n",
       "args.margin                                                                   1.0\n",
       "args.save_dir                                                             ./other\n",
       "args.results_file                                                         results\n",
       "args.dataset                                                           chestmnist\n",
       "args.augmentations                                                          basic\n",
       "args.aug_args                                                                    \n",
       "args.sampler                                                                 None\n",
       "args.save_every_epochs                                                          5\n",
       "args.evaluate_every                                                           5.0\n",
       "args.early_stopping_patience                                                   10\n",
       "args.use_best_model                                                         False\n",
       "args.test                                                                    None\n",
       "args.dropout                                                                  0.1\n",
       "args.pretrained                                                              None\n",
       "args.freeze                                                                 False\n",
       "args.pretrain_type                                                            bce\n",
       "args.type_3d                                                                   3d\n",
       "args.model_per_task                                                         False\n",
       "args.use_16                                                                  True\n",
       "Name: 15, dtype: object"
      ]
     },
     "execution_count": 99,
     "metadata": {},
     "output_type": "execute_result"
    }
   ],
   "source": [
    "df[(df['args.dropout']==0.1)].sort_values(by='val.val_auc',ascending=False).iloc[0]"
   ]
  },
  {
   "cell_type": "code",
   "execution_count": 100,
   "metadata": {},
   "outputs": [
    {
     "data": {
      "text/plain": [
       "dataset                                                                chestmnist\n",
       "name                                                                basic_auc_128\n",
       "last                                                                            0\n",
       "path                            other/chestmnist/lr_aug_batch_f6efaf16-b72d-4f...\n",
       "val.val_acc                                                              0.392014\n",
       "val.val_auc                                                              0.697794\n",
       "test.test_acc                                                            0.382026\n",
       "test.test_auc                                                            0.687536\n",
       "args.name                       lr_aug_batch_f6efaf16-b72d-4f10-b575-b3306d1a20b5\n",
       "args.workers                                                                   10\n",
       "args.epochs                                                                   200\n",
       "args.batch_size                                                               128\n",
       "args.resume                                                                  None\n",
       "args.seed                                                                  123456\n",
       "args.debug                                                                  False\n",
       "args.momentum                                                                 0.9\n",
       "args.weight_decay                                                          0.0001\n",
       "args.loss_type                                                                auc\n",
       "args.lr                                                                      0.01\n",
       "args.optimizer                                                              adamw\n",
       "args.warmup_epochs                                                              0\n",
       "args.lr_steps                                                          [100, 150]\n",
       "args.lr0                                                                     0.02\n",
       "args.betas                                                             [0.9, 0.9]\n",
       "args.epoch_decay                                                             0.03\n",
       "args.margin                                                                   1.0\n",
       "args.save_dir                                                             ./other\n",
       "args.results_file                                                         results\n",
       "args.dataset                                                           chestmnist\n",
       "args.augmentations                                                          basic\n",
       "args.aug_args                                                                    \n",
       "args.sampler                                                                 None\n",
       "args.save_every_epochs                                                          5\n",
       "args.evaluate_every                                                           5.0\n",
       "args.early_stopping_patience                                                   10\n",
       "args.use_best_model                                                         False\n",
       "args.test                                                                    None\n",
       "args.dropout                                                                  0.1\n",
       "args.pretrained                                                              None\n",
       "args.freeze                                                                 False\n",
       "args.pretrain_type                                                            bce\n",
       "args.type_3d                                                                   3d\n",
       "args.model_per_task                                                         False\n",
       "args.use_16                                                                  True\n",
       "Name: 15, dtype: object"
      ]
     },
     "execution_count": 100,
     "metadata": {},
     "output_type": "execute_result"
    }
   ],
   "source": [
    "df[(df['args.dropout']==0.1)].sort_values(by='test.test_auc',ascending=False).iloc[0]"
   ]
  },
  {
   "cell_type": "code",
   "execution_count": null,
   "metadata": {},
   "outputs": [],
   "source": []
  }
 ],
 "metadata": {
  "kernelspec": {
   "display_name": "ml",
   "language": "python",
   "name": "python3"
  },
  "language_info": {
   "codemirror_mode": {
    "name": "ipython",
    "version": 3
   },
   "file_extension": ".py",
   "mimetype": "text/x-python",
   "name": "python",
   "nbconvert_exporter": "python",
   "pygments_lexer": "ipython3",
   "version": "3.9.16"
  },
  "orig_nbformat": 4
 },
 "nbformat": 4,
 "nbformat_minor": 2
}
